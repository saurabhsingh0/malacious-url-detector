{
 "cells": [
  {
   "cell_type": "code",
   "execution_count": null,
   "id": "d7257485",
   "metadata": {},
   "outputs": [
    {
     "name": "stdout",
     "output_type": "stream",
     "text": [
      " * Serving Flask app '__main__' (lazy loading)\n",
      " * Environment: production\n",
      "\u001b[31m   WARNING: This is a development server. Do not use it in a production deployment.\u001b[0m\n",
      "\u001b[2m   Use a production WSGI server instead.\u001b[0m\n",
      " * Debug mode: off\n"
     ]
    },
    {
     "name": "stderr",
     "output_type": "stream",
     "text": [
      " * Running on http://127.0.0.1:5000/ (Press CTRL+C to quit)\n",
      "127.0.0.1 - - [11/Apr/2022 12:12:47] \"GET / HTTP/1.1\" 404 -\n",
      "127.0.0.1 - - [11/Apr/2022 12:12:49] \"GET /url-detect HTTP/1.1\" 200 -\n",
      "127.0.0.1 - - [11/Apr/2022 12:12:49] \"GET /toggled-search-bar.css HTTP/1.1\" 404 -\n",
      "127.0.0.1 - - [11/Apr/2022 12:12:52] \"GET /url-detect HTTP/1.1\" 200 -\n",
      "127.0.0.1 - - [11/Apr/2022 12:12:52] \"GET /toggled-search-bar.css HTTP/1.1\" 404 -\n"
     ]
    }
   ],
   "source": [
    "from flask import Flask, render_template, request, url_for, flash, redirect\n",
    "import requests\n",
    "\n",
    "app = Flask(__name__)\n",
    "app.config['SECRET_KEY'] = 'your secret key'\n",
    "\n",
    "@app.route('/url-detect', methods=('GET', 'POST'))\n",
    "def url_detect():\n",
    "    if request.method == 'POST':\n",
    "        search = request.form['search']\n",
    "        if request.form.get('submitbtn') == 'submit':\n",
    "            base_url = 'https://t0s06c7lui.execute-api.us-west-2.amazonaws.com/Prod/predict?url={0}'.format(search)\n",
    "            response = requests.get(base_url).json()\n",
    "            if 'not' in response['message']:\n",
    "                flash('URL is Non Malicious', 'success')\n",
    "            else:\n",
    "                flash('URL is Malicious', 'danger')\n",
    "        if not search:\n",
    "            flash('URL is Required!')\n",
    "    return render_template('toggled-search-bar.html')\n",
    "\n",
    "if __name__ == '__main__':\n",
    "    app.run()"
   ]
  },
  {
   "cell_type": "code",
   "execution_count": null,
   "id": "b348f021",
   "metadata": {},
   "outputs": [],
   "source": []
  },
  {
   "cell_type": "code",
   "execution_count": null,
   "id": "b822d26c",
   "metadata": {},
   "outputs": [],
   "source": []
  }
 ],
 "metadata": {
  "kernelspec": {
   "display_name": "Python 3",
   "language": "python",
   "name": "python3"
  },
  "language_info": {
   "codemirror_mode": {
    "name": "ipython",
    "version": 3
   },
   "file_extension": ".py",
   "mimetype": "text/x-python",
   "name": "python",
   "nbconvert_exporter": "python",
   "pygments_lexer": "ipython3",
   "version": "3.8.8"
  }
 },
 "nbformat": 4,
 "nbformat_minor": 5
}
